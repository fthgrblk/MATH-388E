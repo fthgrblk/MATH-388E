{
 "cells": [
  {
   "cell_type": "markdown",
   "metadata": {},
   "source": [
    "# Homework 3\n",
    "\n",
    "Unzip the zip file that contains the homework and the data associated with it, then run the code below:"
   ]
  },
  {
   "cell_type": "code",
<<<<<<< HEAD
   "execution_count": 304,
=======
   "execution_count": null,
>>>>>>> 8afad0f563d016959729012b40c9a28f4e624214
   "metadata": {},
   "outputs": [],
   "source": [
    "import os\n",
    "import sys\n",
    "import hashlib\n",
    "import pandas as pd\n",
    "from sklearn.model_selection import train_test_split\n",
    "from sklearn.cluster import KMeans\n",
    "from sklearn.metrics import confusion_matrix\n",
    "from sklearn.neighbors import KNeighborsClassifier\n",
    "from sklearn.preprocessing import StandardScaler\n",
    "\n",
    "assert os.path.exists('../homeworks/HW3.ipynb')\n",
    "assert os.path.exists('../data/hw3-task2-data.csv')\n",
    "assert os.path.exists('../data/BreastTissue.xlsx')\n"
   ]
  },
  {
   "cell_type": "markdown",
   "metadata": {},
   "source": [
    "## Task 1\n",
    "\n",
    "Run the code below before you start working on your homework:\n"
   ]
  },
  {
   "cell_type": "code",
<<<<<<< HEAD
   "execution_count": 305,
=======
   "execution_count": null,
>>>>>>> 8afad0f563d016959729012b40c9a28f4e624214
   "metadata": {},
   "outputs": [],
   "source": [
    "info = sys.platform + '\\n' + sys.version + '\\n' + os.getcwd() + '\\n' + os.getlogin()\n",
    "name = hashlib.sha256(info.encode('utf-8')).hexdigest()\n",
    "with open('../other/'+name,'w') as f:\n",
    "    f.write(info)"
   ]
  },
  {
   "cell_type": "code",
<<<<<<< HEAD
   "execution_count": 306,
=======
   "execution_count": null,
>>>>>>> 8afad0f563d016959729012b40c9a28f4e624214
   "metadata": {},
   "outputs": [],
   "source": [
    "with open('../other/'+name,'r') as f:\n",
    "    info = f.read()\n",
    "name = hashlib.sha256(info.encode('utf-8')).hexdigest()\n",
    "assert os.path.exists('../other/'+name)"
   ]
  },
  {
   "cell_type": "markdown",
   "metadata": {},
   "source": [
    "## Task 2\n",
    "\n",
    "Using [`pandas.read_csv`](https://pandas.pydata.org/pandas-docs/stable/generated/pandas.read_csv.html) function read the data file '`data/hw3-task2-data.csv`' below:"
   ]
  },
  {
   "cell_type": "code",
<<<<<<< HEAD
   "execution_count": 307,
   "metadata": {},
   "outputs": [
    {
     "data": {
      "text/html": [
       "<div>\n",
       "<style scoped>\n",
       "    .dataframe tbody tr th:only-of-type {\n",
       "        vertical-align: middle;\n",
       "    }\n",
       "\n",
       "    .dataframe tbody tr th {\n",
       "        vertical-align: top;\n",
       "    }\n",
       "\n",
       "    .dataframe thead th {\n",
       "        text-align: right;\n",
       "    }\n",
       "</style>\n",
       "<table border=\"1\" class=\"dataframe\">\n",
       "  <thead>\n",
       "    <tr style=\"text-align: right;\">\n",
       "      <th></th>\n",
       "      <th>x</th>\n",
       "      <th>y</th>\n",
       "      <th>c</th>\n",
       "    </tr>\n",
       "  </thead>\n",
       "  <tbody>\n",
       "    <tr>\n",
       "      <th>1</th>\n",
       "      <td>-2.873979</td>\n",
       "      <td>-1.977563</td>\n",
       "      <td>0</td>\n",
       "    </tr>\n",
       "    <tr>\n",
       "      <th>2</th>\n",
       "      <td>-1.939798</td>\n",
       "      <td>-2.758217</td>\n",
       "      <td>0</td>\n",
       "    </tr>\n",
       "    <tr>\n",
       "      <th>3</th>\n",
       "      <td>-1.954560</td>\n",
       "      <td>2.657385</td>\n",
       "      <td>0</td>\n",
       "    </tr>\n",
       "    <tr>\n",
       "      <th>4</th>\n",
       "      <td>-3.284104</td>\n",
       "      <td>1.952121</td>\n",
       "      <td>0</td>\n",
       "    </tr>\n",
       "    <tr>\n",
       "      <th>5</th>\n",
       "      <td>-1.954758</td>\n",
       "      <td>2.351581</td>\n",
       "      <td>0</td>\n",
       "    </tr>\n",
       "    <tr>\n",
       "      <th>6</th>\n",
       "      <td>-1.133108</td>\n",
       "      <td>2.649699</td>\n",
       "      <td>0</td>\n",
       "    </tr>\n",
       "    <tr>\n",
       "      <th>7</th>\n",
       "      <td>-0.063933</td>\n",
       "      <td>-2.703307</td>\n",
       "      <td>0</td>\n",
       "    </tr>\n",
       "    <tr>\n",
       "      <th>8</th>\n",
       "      <td>2.272370</td>\n",
       "      <td>-1.921207</td>\n",
       "      <td>0</td>\n",
       "    </tr>\n",
       "    <tr>\n",
       "      <th>9</th>\n",
       "      <td>2.627003</td>\n",
       "      <td>-2.284012</td>\n",
       "      <td>0</td>\n",
       "    </tr>\n",
       "    <tr>\n",
       "      <th>10</th>\n",
       "      <td>1.695585</td>\n",
       "      <td>-3.618690</td>\n",
       "      <td>0</td>\n",
       "    </tr>\n",
       "  </tbody>\n",
       "</table>\n",
       "</div>"
      ],
      "text/plain": [
       "           x         y  c\n",
       "1  -2.873979 -1.977563  0\n",
       "2  -1.939798 -2.758217  0\n",
       "3  -1.954560  2.657385  0\n",
       "4  -3.284104  1.952121  0\n",
       "5  -1.954758  2.351581  0\n",
       "6  -1.133108  2.649699  0\n",
       "7  -0.063933 -2.703307  0\n",
       "8   2.272370 -1.921207  0\n",
       "9   2.627003 -2.284012  0\n",
       "10  1.695585 -3.618690  0"
      ]
     },
     "execution_count": 307,
     "metadata": {},
     "output_type": "execute_result"
    }
   ],
   "source": [
    "task2_data = pd.read_csv(\"../data/hw3-task2-data.csv\")# <- YOUR CODE GOES HERE\n",
=======
   "execution_count": null,
   "metadata": {},
   "outputs": [],
   "source": [
    "task2_data = # <- YOUR CODE GOES HERE\n",
>>>>>>> 8afad0f563d016959729012b40c9a28f4e624214
    "task2_data.head(10)"
   ]
  },
  {
   "cell_type": "markdown",
   "metadata": {},
   "source": [
    "Now, using the [`train_test_split`](http://scikit-learn.org/stable/modules/generated/sklearn.model_selection.train_test_split.html) function of `sklearn`, create training and testing data subsets. Use 25% of your data as test, and remaining as your training data sets."
   ]
  },
  {
   "cell_type": "code",
<<<<<<< HEAD
   "execution_count": 297,
   "metadata": {},
   "outputs": [],
   "source": [
    "Xtrain, Xtest, Ytrain, Ytest =  train_test_split(task2_data.iloc[:,0:2],task2_data.iloc[:,2],test_size=0.25)# <- YOUR CODE GOES HERE"
=======
   "execution_count": null,
   "metadata": {},
   "outputs": [],
   "source": [
    "Xtrain, Xtest, Ytrain, Ytest = # <- YOUR CODE GOES HERE"
>>>>>>> 8afad0f563d016959729012b40c9a28f4e624214
   ]
  },
  {
   "cell_type": "markdown",
   "metadata": {},
   "source": [
    "Now, using [`sklearn.cluster.KMeans`](http://scikit-learn.org/stable/modules/generated/sklearn.cluster.KMeans.html) create a k-means model below for 2 clusters, train it and use the test dataset to make predictions:"
   ]
  },
  {
   "cell_type": "code",
<<<<<<< HEAD
   "execution_count": 286,
   "metadata": {},
   "outputs": [],
   "source": [
    "model = KMeans(n_clusters=2)  # <- YOUR CODE GOES HERE\n",
    "model.fit(Xtrain) # <- YOUR CODE SHOULD REPLACE ?????\n",
    "predictions =model.predict(Xtest)  # <- YOUR CODE GOES HERE"
=======
   "execution_count": null,
   "metadata": {},
   "outputs": [],
   "source": [
    "model = KMeans(?????) # <- YOUR CODE GOES HERE\n",
    "????? # <- YOUR CODE SHOULD REPLACE ?????\n",
    "predictions =  # <- YOUR CODE GOES HERE"
>>>>>>> 8afad0f563d016959729012b40c9a28f4e624214
   ]
  },
  {
   "cell_type": "markdown",
   "metadata": {},
   "source": [
    "Now, using [`sklearn.metrics.confusion_matrix`](http://scikit-learn.org/stable/modules/generated/sklearn.metrics.confusion_matrix.html) construct the confusion matrix, and calculate your accuracy using sklearn's [cross-validation tools](http://scikit-learn.org/stable/modules/model_evaluation.html).  Try to repeat your experiments until you reach a reasonable accuracy result."
   ]
  },
  {
   "cell_type": "code",
<<<<<<< HEAD
   "execution_count": 287,
   "metadata": {},
   "outputs": [
    {
     "data": {
      "text/plain": [
       "0.47058823529411764"
      ]
     },
     "execution_count": 287,
     "metadata": {},
     "output_type": "execute_result"
    }
   ],
   "source": [
    "cm = confusion_matrix(Ytest,predictions) # <- YOUR CONFUSION MATRIX CODE GOES HERE\n",
    "from sklearn.metrics import accuracy_score\n",
    "accuracy =accuracy_score(Ytest,predictions) # <- YOUR ACCURACY CODE GOES HERE\n",
=======
   "execution_count": null,
   "metadata": {},
   "outputs": [],
   "source": [
    "cm = confusion_matrix(??????) # <- YOUR CONFUSION MATRIX CODE GOES HERE\n",
    "accuracy = # <- YOUR ACCURACY CODE GOES HERE\n",
>>>>>>> 8afad0f563d016959729012b40c9a28f4e624214
    "accuracy"
   ]
  },
  {
   "cell_type": "markdown",
   "metadata": {},
   "source": [
    "As you observed, your accuracy is really terrible.  Inspect the data, make a plot and observe that k-means **will never** produce a usable estimate of clusters for this dataset:"
   ]
  },
  {
   "cell_type": "code",
<<<<<<< HEAD
   "execution_count": 125,
   "metadata": {},
   "outputs": [
    {
     "data": {
      "image/png": "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\n",
      "text/plain": [
       "<Figure size 432x288 with 1 Axes>"
      ]
     },
     "metadata": {
      "needs_background": "light"
     },
     "output_type": "display_data"
    }
   ],
   "source": [
    "## Do your inspections and plots in this cell\n",
    "import matplotlib.pyplot as plt\n",
    "accr=[]\n",
    "for i in range(40):\n",
    "    model.fit(Xtrain)\n",
    "    predictions =model.predict(Xtest)\n",
    "    accr=accr +[accuracy_score(Ytest,predictions)]\n",
    "plt.plot(accr)\n",
    "plt.title(\"accuracy of data\")\n",
    "plt.xlabel(\"number of trial\")\n",
    "plt.ylabel(\"percentage of accuracy\")\n",
    "plt.show()"
   ]
  },
  {
   "cell_type": "code",
   "execution_count": 309,
   "metadata": {},
   "outputs": [
    {
     "data": {
      "image/png": "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\n",
      "text/plain": [
       "<Figure size 432x288 with 1 Axes>"
      ]
     },
     "metadata": {
      "needs_background": "light"
     },
     "output_type": "display_data"
    }
   ],
   "source": [
    "plt.plot(task2_data)\n",
    "plt.show()"
=======
   "execution_count": null,
   "metadata": {},
   "outputs": [],
   "source": [
    "## Do your inspections and plots in this cell"
>>>>>>> 8afad0f563d016959729012b40c9a28f4e624214
   ]
  },
  {
   "cell_type": "markdown",
   "metadata": {},
   "source": [
    "In this cell, write an explanation as to why the k-means algorithm will never work:\n",
    "\n",
    "### Your explanation goes below\n",
    "\n",
<<<<<<< HEAD
    "K-means, is an unsupervised cluster algorithm unlike classification algorithms(Knn), do not have a preconceived notion of labels."
=======
    "HERE"
>>>>>>> 8afad0f563d016959729012b40c9a28f4e624214
   ]
  },
  {
   "cell_type": "markdown",
   "metadata": {},
   "source": [
    "## Task 3\n",
    "\n",
    "Now, instead of using k-means model, let us use a k-nn model.  Below, using [`sklearn.neighbors.KNeighborsClassifier`](http://scikit-learn.org/stable/modules/generated/sklearn.neighbors.KNeighborsClassifier.html) create a model, train it and use the test dataset to make predictions.  Use the same train-test datasets we created earlier.  You are free to choose the parameters 'k' and the 'metric':"
   ]
  },
  {
   "cell_type": "code",
<<<<<<< HEAD
   "execution_count": 224,
   "metadata": {},
   "outputs": [],
   "source": [
    "model = KNeighborsClassifier(n_neighbors=2,metric=\"euclidean\")\n",
    "model.fit(Xtrain,Ytrain) # <- YOUR CODE SHOULD REPLACE ?????\n",
    "predictions = model.predict(Xtest) # <- YOUR CODE GOES HERE"
=======
   "execution_count": null,
   "metadata": {},
   "outputs": [],
   "source": [
    "model = KNeighborsClassifier(?????)\n",
    "????? # <- YOUR CODE SHOULD REPLACE ?????\n",
    "predictions =  # <- YOUR CODE GOES HERE"
>>>>>>> 8afad0f563d016959729012b40c9a28f4e624214
   ]
  },
  {
   "cell_type": "markdown",
   "metadata": {},
   "source": [
    "Now, construct the confusion matrix, and calculate your accuracy."
   ]
  },
  {
   "cell_type": "code",
<<<<<<< HEAD
   "execution_count": 225,
   "metadata": {},
   "outputs": [
    {
     "data": {
      "text/plain": [
       "0.6596638655462185"
      ]
     },
     "execution_count": 225,
     "metadata": {},
     "output_type": "execute_result"
    }
   ],
   "source": [
    "cm = confusion_matrix(Ytest,predictions) # <- YOUR CONFUSION MATRIX CODE GOES HERE\n",
    "accuracy =accuracy_score(Ytest,predictions) # <- YOUR ACCURACY CODE GOES HERE\n",
=======
   "execution_count": null,
   "metadata": {},
   "outputs": [],
   "source": [
    "cm = confusion_matrix(??????) # <- YOUR CONFUSION MATRIX CODE GOES HERE\n",
    "accuracy = # <- YOUR ACCURACY CODE GOES HERE\n",
>>>>>>> 8afad0f563d016959729012b40c9a28f4e624214
    "accuracy"
   ]
  },
  {
   "cell_type": "markdown",
   "metadata": {},
   "source": [
    "Accuracy is much better. Explain below why, in theory, this method does produce better results in this case:\n",
    "\n",
    "### Your explanation goes below\n",
    "\n",
<<<<<<< HEAD
    "we used Classifying algorithm for classifer algorithm "
=======
    "HERE"
>>>>>>> 8afad0f563d016959729012b40c9a28f4e624214
   ]
  },
  {
   "cell_type": "markdown",
   "metadata": {},
   "source": [
    "## Task 4\n",
    "\n",
    "Using [`pandas.read_excel`]() read the [Breast Tissue Data Set](https://archive.ics.uci.edu/ml/datasets/Breast+Tissue) which is at 'data/BreastTissue.xlsx'"
   ]
  },
  {
   "cell_type": "code",
<<<<<<< HEAD
   "execution_count": 226,
   "metadata": {},
   "outputs": [],
   "source": [
    "data = pd.read_excel(\"../data/BReastTissue.xlsx\")\n",
=======
   "execution_count": null,
   "metadata": {},
   "outputs": [],
   "source": [
    "data = # your code goes here\n",
>>>>>>> 8afad0f563d016959729012b40c9a28f4e624214
    "data.head(10)\n",
    "xs = data.iloc[:,1:]\n",
    "ys = data.iloc[:,0]"
   ]
  },
  {
   "cell_type": "markdown",
   "metadata": {},
   "source": [
    "Now, create a k-nn model, train and test it. Your dependent variable is `Class` column. You are free to choose `k` and the `metric`:"
   ]
  },
  {
   "cell_type": "code",
<<<<<<< HEAD
   "execution_count": 231,
   "metadata": {},
   "outputs": [],
   "source": [
    "Xtrain, Xtest, Ytrain, Ytest =  train_test_split(xs,ys,test_size=0.25)"
=======
   "execution_count": null,
   "metadata": {},
   "outputs": [],
   "source": [
    "Xtrain, Xtest, Ytrain, Ytest = # CODE GOES HERE"
>>>>>>> 8afad0f563d016959729012b40c9a28f4e624214
   ]
  },
  {
   "cell_type": "code",
<<<<<<< HEAD
   "execution_count": 236,
   "metadata": {},
   "outputs": [
    {
     "name": "stdout",
     "output_type": "stream",
     "text": [
      "[[8 0 1 0 0 0]\n",
      " [0 2 0 0 0 0]\n",
      " [0 0 2 0 0 3]\n",
      " [0 0 0 2 0 0]\n",
      " [0 0 0 1 2 2]\n",
      " [0 1 0 1 1 1]]\n",
      "0.6296296296296297\n"
     ]
    }
   ],
   "source": [
    "model =KNeighborsClassifier(n_neighbors=6,metric=\"euclidean\")\n",
    "model.fit(Xtrain,Ytrain)\n",
    "predicted = model.predict(Xtest)\n",
    "cm = confusion_matrix(Ytest,predicted)\n",
    "accuracy = accuracy_score(Ytest,predicted)\n",
=======
   "execution_count": null,
   "metadata": {},
   "outputs": [],
   "source": [
    "model = ????\n",
    "model.fit(????)\n",
    "predicted = ????\n",
    "cm = ????\n",
    "accuracy = ??????\n",
>>>>>>> 8afad0f563d016959729012b40c9a28f4e624214
    "print(cm)\n",
    "print(accuracy)"
   ]
  },
  {
   "cell_type": "markdown",
   "metadata": {},
   "source": [
    "Now, using [feature scaling](http://scikit-learn.org/stable/modules/preprocessing.html), specifically, using [`StandardScaler`](http://scikit-learn.org/stable/modules/generated/sklearn.preprocessing.StandardScaler.html#sklearn.preprocessing.StandardScaler) normalize the feature columns `xs` we defined earlier below:"
   ]
  },
  {
   "cell_type": "code",
<<<<<<< HEAD
   "execution_count": 237,
=======
   "execution_count": null,
>>>>>>> 8afad0f563d016959729012b40c9a28f4e624214
   "metadata": {},
   "outputs": [],
   "source": [
    "scaler = StandardScaler()\n",
<<<<<<< HEAD
    "scaler.fit(xs)\n",
    "xs = scaler.transform(xs) # your code goes here"
=======
    "scaler.fit(??)\n",
    "xs = ?? # your code goes here"
>>>>>>> 8afad0f563d016959729012b40c9a28f4e624214
   ]
  },
  {
   "cell_type": "markdown",
   "metadata": {},
   "source": [
    "Now, repeat mdoel construction, training, testing and accuracy calculation"
   ]
  },
  {
   "cell_type": "code",
<<<<<<< HEAD
   "execution_count": 238,
   "metadata": {},
   "outputs": [
    {
     "name": "stdout",
     "output_type": "stream",
     "text": [
      "[[8 0 0 0 0 0]\n",
      " [0 4 0 0 0 0]\n",
      " [0 0 2 0 0 2]\n",
      " [0 0 0 2 1 1]\n",
      " [0 0 0 1 3 0]\n",
      " [0 0 0 1 1 1]]\n",
      "0.7407407407407407\n"
     ]
    }
   ],
   "source": [
    "Xtrain, Xtest, Ytrain, Ytest=train_test_split(xs,ys,test_size=0.25)\n",
    "model = KNeighborsClassifier(n_neighbors=6,metric=\"euclidean\")\n",
    "model.fit(Xtrain,Ytrain)\n",
    "predicted = model.predict(Xtest)\n",
    "cm = confusion_matrix(Ytest,predicted)\n",
    "accuracy = accuracy_score(Ytest,predicted)\n",
=======
   "execution_count": null,
   "metadata": {},
   "outputs": [],
   "source": [
    "Xtrain, Xtest, Ytrain, Ytest = ???\n",
    "model = ??\n",
    "model.fit(??)\n",
    "predicted = ??\n",
    "cm = ??\n",
    "accuracy = ??????\n",
>>>>>>> 8afad0f563d016959729012b40c9a28f4e624214
    "print(cm)\n",
    "print(accuracy)"
   ]
  },
  {
   "cell_type": "markdown",
   "metadata": {},
   "source": [
    "Why did we get better results? Explain below:\n",
    "\n",
    "### Your explanation goes below\n",
    "\n",
<<<<<<< HEAD
    "Normalization used.\n",
    "Some of the values can be dominant so if we use normalization that everyvalues' coefficent shows real impact ."
=======
    "HERE"
>>>>>>> 8afad0f563d016959729012b40c9a28f4e624214
   ]
  },
  {
   "cell_type": "markdown",
   "metadata": {},
   "source": [
    "## Task 5\n",
    "\n",
    "Now, construct a k-nn model for the same dataset [Breast Tissue Data Set](https://archive.ics.uci.edu/ml/datasets/Breast+Tissue) which is at 'data/BreastTissue.xlsx' first using the original data, then again, using feature scaling. At the end compare accuracies."
   ]
  },
  {
   "cell_type": "code",
<<<<<<< HEAD
   "execution_count": 278,
   "metadata": {},
   "outputs": [],
   "source": [
    "data =pd.read_excel(\"../data/BReastTissue.xlsx\")\n",
    "data.head(10)\n",
    "xs = data.iloc[:,1:]\n",
    "ys = data.iloc[:,0]\n",
    "Xtrain, Xtest, Ytrain, Ytest = train_test_split(xs,ys,test_size=0.25)"
   ]
  },
  {
   "cell_type": "code",
   "execution_count": 279,
   "metadata": {},
   "outputs": [
    {
     "name": "stdout",
     "output_type": "stream",
     "text": [
      "[[3 2 0 0 0 0]\n",
      " [0 5 0 0 0 0]\n",
      " [2 1 1 0 0 0]\n",
      " [0 0 0 0 1 2]\n",
      " [0 0 0 2 2 1]\n",
      " [0 2 0 2 0 1]]\n",
      "0.4444444444444444\n"
     ]
    }
   ],
   "source": [
    "model = KNeighborsClassifier(n_neighbors=6,metric=\"euclidean\")\n",
    "model.fit(Xtrain,Ytrain)\n",
    "predicted = model.predict(Xtest)\n",
    "cm = confusion_matrix(Ytest,predicted)\n",
    "accuracy = accuracy_score(Ytest,predicted)\n",
    "print(cm)\n",
    "print(accuracy)"
=======
   "execution_count": null,
   "metadata": {},
   "outputs": [],
   "source": [
    "## Your code goes here"
>>>>>>> 8afad0f563d016959729012b40c9a28f4e624214
   ]
  },
  {
   "cell_type": "code",
<<<<<<< HEAD
   "execution_count": 281,
   "metadata": {},
   "outputs": [
    {
     "name": "stdout",
     "output_type": "stream",
     "text": [
      "[[7 0 1 0 0 0]\n",
      " [0 2 0 0 1 2]\n",
      " [0 0 3 0 0 2]\n",
      " [0 0 0 3 0 2]\n",
      " [0 0 0 0 1 0]\n",
      " [0 0 0 0 2 1]]\n",
      "0.6296296296296297\n"
     ]
    }
   ],
   "source": [
    "Xtrain, Xtest, Ytrain, Ytest = train_test_split(xs,ys,test_size=0.25)\n",
    "scaler = StandardScaler()\n",
    "scaler.fit(xs)\n",
    "xs = scaler.transform(xs)\n",
    "model = KNeighborsClassifier(n_neighbors=6,metric=\"euclidean\")\n",
    "model.fit(Xtrain,Ytrain)\n",
    "predicted = model.predict(Xtest)\n",
    "cm = confusion_matrix(Ytest,predicted)\n",
    "accuracy = accuracy_score(Ytest,predicted)\n",
    "print(cm)\n",
    "print(accuracy)"
   ]
  },
  {
   "cell_type": "markdown",
   "metadata": {},
   "source": [
    "Using Normalization shows us it will always better results ( approximately %20 )"
   ]
=======
   "execution_count": null,
   "metadata": {},
   "outputs": [],
   "source": []
>>>>>>> 8afad0f563d016959729012b40c9a28f4e624214
  }
 ],
 "metadata": {
  "kernelspec": {
   "display_name": "Python 3",
   "language": "python",
   "name": "python3"
  },
  "language_info": {
   "codemirror_mode": {
    "name": "ipython",
    "version": 3
   },
   "file_extension": ".py",
   "mimetype": "text/x-python",
   "name": "python",
   "nbconvert_exporter": "python",
   "pygments_lexer": "ipython3",
   "version": "3.6.6"
  }
 },
 "nbformat": 4,
 "nbformat_minor": 2
}
