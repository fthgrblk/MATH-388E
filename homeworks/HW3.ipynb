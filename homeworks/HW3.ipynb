{
 "cells": [
  {
   "cell_type": "markdown",
   "metadata": {},
   "source": [
    "# Homework 3\n",
    "\n",
    "Unzip the zip file that contains the homework and the data associated with it, then run the code below:"
   ]
  },
  {
   "cell_type": "code",
   "execution_count": 1,
   "metadata": {},
   "outputs": [],
   "source": [
    "import os\n",
    "import sys\n",
    "import hashlib\n",
    "import pandas as pd\n",
    "from sklearn.model_selection import train_test_split\n",
    "from sklearn.cluster import KMeans\n",
    "from sklearn.metrics import confusion_matrix\n",
    "from sklearn.neighbors import KNeighborsClassifier\n",
    "from sklearn.preprocessing import StandardScaler\n",
    "\n",
    "assert os.path.exists('../homeworks/HW3.ipynb')\n",
    "assert os.path.exists('../data/hw3-task2-data.csv')\n",
    "assert os.path.exists('../data/BreastTissue.xlsx')\n"
   ]
  },
  {
   "cell_type": "markdown",
   "metadata": {},
   "source": [
    "## Task 1\n",
    "\n",
    "Run the code below before you start working on your homework:\n"
   ]
  },
  {
   "cell_type": "code",
   "execution_count": 2,
   "metadata": {},
   "outputs": [],
   "source": [
    "info = sys.platform + '\\n' + sys.version + '\\n' + os.getcwd() + '\\n' + os.getlogin()\n",
    "name = hashlib.sha256(info.encode('utf-8')).hexdigest()\n",
    "with open('../other/'+name,'w') as f:\n",
    "    f.write(info)"
   ]
  },
  {
   "cell_type": "code",
   "execution_count": 3,
   "metadata": {},
   "outputs": [],
   "source": [
    "with open('../other/'+name,'r') as f:\n",
    "    info = f.read()\n",
    "name = hashlib.sha256(info.encode('utf-8')).hexdigest()\n",
    "assert os.path.exists('../other/'+name)"
   ]
  },
  {
   "cell_type": "markdown",
   "metadata": {},
   "source": [
    "## Task 2\n",
    "\n",
    "Using [`pandas.read_csv`](https://pandas.pydata.org/pandas-docs/stable/generated/pandas.read_csv.html) function read the data file '`data/hw3-task2-data.csv`' below:"
   ]
  },
  {
   "cell_type": "code",
   "execution_count": 4,
   "metadata": {},
   "outputs": [
    {
     "data": {
      "text/html": [
       "<div>\n",
       "<style scoped>\n",
       "    .dataframe tbody tr th:only-of-type {\n",
       "        vertical-align: middle;\n",
       "    }\n",
       "\n",
       "    .dataframe tbody tr th {\n",
       "        vertical-align: top;\n",
       "    }\n",
       "\n",
       "    .dataframe thead th {\n",
       "        text-align: right;\n",
       "    }\n",
       "</style>\n",
       "<table border=\"1\" class=\"dataframe\">\n",
       "  <thead>\n",
       "    <tr style=\"text-align: right;\">\n",
       "      <th></th>\n",
       "      <th>x</th>\n",
       "      <th>y</th>\n",
       "      <th>c</th>\n",
       "    </tr>\n",
       "  </thead>\n",
       "  <tbody>\n",
       "    <tr>\n",
       "      <th>1</th>\n",
       "      <td>-2.873979</td>\n",
       "      <td>-1.977563</td>\n",
       "      <td>0</td>\n",
       "    </tr>\n",
       "    <tr>\n",
       "      <th>2</th>\n",
       "      <td>-1.939798</td>\n",
       "      <td>-2.758217</td>\n",
       "      <td>0</td>\n",
       "    </tr>\n",
       "    <tr>\n",
       "      <th>3</th>\n",
       "      <td>-1.954560</td>\n",
       "      <td>2.657385</td>\n",
       "      <td>0</td>\n",
       "    </tr>\n",
       "    <tr>\n",
       "      <th>4</th>\n",
       "      <td>-3.284104</td>\n",
       "      <td>1.952121</td>\n",
       "      <td>0</td>\n",
       "    </tr>\n",
       "    <tr>\n",
       "      <th>5</th>\n",
       "      <td>-1.954758</td>\n",
       "      <td>2.351581</td>\n",
       "      <td>0</td>\n",
       "    </tr>\n",
       "    <tr>\n",
       "      <th>6</th>\n",
       "      <td>-1.133108</td>\n",
       "      <td>2.649699</td>\n",
       "      <td>0</td>\n",
       "    </tr>\n",
       "    <tr>\n",
       "      <th>7</th>\n",
       "      <td>-0.063933</td>\n",
       "      <td>-2.703307</td>\n",
       "      <td>0</td>\n",
       "    </tr>\n",
       "    <tr>\n",
       "      <th>8</th>\n",
       "      <td>2.272370</td>\n",
       "      <td>-1.921207</td>\n",
       "      <td>0</td>\n",
       "    </tr>\n",
       "    <tr>\n",
       "      <th>9</th>\n",
       "      <td>2.627003</td>\n",
       "      <td>-2.284012</td>\n",
       "      <td>0</td>\n",
       "    </tr>\n",
       "    <tr>\n",
       "      <th>10</th>\n",
       "      <td>1.695585</td>\n",
       "      <td>-3.618690</td>\n",
       "      <td>0</td>\n",
       "    </tr>\n",
       "  </tbody>\n",
       "</table>\n",
       "</div>"
      ],
      "text/plain": [
       "           x         y  c\n",
       "1  -2.873979 -1.977563  0\n",
       "2  -1.939798 -2.758217  0\n",
       "3  -1.954560  2.657385  0\n",
       "4  -3.284104  1.952121  0\n",
       "5  -1.954758  2.351581  0\n",
       "6  -1.133108  2.649699  0\n",
       "7  -0.063933 -2.703307  0\n",
       "8   2.272370 -1.921207  0\n",
       "9   2.627003 -2.284012  0\n",
       "10  1.695585 -3.618690  0"
      ]
     },
     "execution_count": 4,
     "metadata": {},
     "output_type": "execute_result"
    }
   ],
   "source": [
    "task2_data =pd.read_csv(\"../data/hw3-task2-data.csv\") # <- YOUR CODE GOES HERE\n",
    "task2_data.head(10)"
   ]
  },
  {
   "cell_type": "markdown",
   "metadata": {},
   "source": [
    "Now, using the [`train_test_split`](http://scikit-learn.org/stable/modules/generated/sklearn.model_selection.train_test_split.html) function of `sklearn`, create training and testing data subsets. Use 25% of your data as test, and remaining as your training data sets."
   ]
  },
  {
   "cell_type": "code",
   "execution_count": 5,
   "metadata": {},
   "outputs": [],
   "source": [
    "Xtrain, Xtest, Ytrain, Ytest = train_test_split(task2_data.iloc[:,0:2],task2_data.iloc[:,2],test_size=0.25)# <- YOUR CODE GOES HERE"
   ]
  },
  {
   "cell_type": "markdown",
   "metadata": {},
   "source": [
    "Now, using [`sklearn.cluster.KMeans`](http://scikit-learn.org/stable/modules/generated/sklearn.cluster.KMeans.html) create a k-means model below for 2 clusters, train it and use the test dataset to make predictions:"
   ]
  },
  {
   "cell_type": "code",
   "execution_count": 6,
   "metadata": {},
   "outputs": [],
   "source": [
    "model = KMeans(n_clusters=2) # <- YOUR CODE GOES HERE\n",
    "model.fit(Xtrain) # <- YOUR CODE SHOULD REPLACE ?????\n",
    "predictions = model.predict(Xtest) # <- YOUR CODE GOES HERE"
   ]
  },
  {
   "cell_type": "markdown",
   "metadata": {},
   "source": [
    "Now, using [`sklearn.metrics.confusion_matrix`](http://scikit-learn.org/stable/modules/generated/sklearn.metrics.confusion_matrix.html) construct the confusion matrix, and calculate your accuracy using sklearn's [cross-validation tools](http://scikit-learn.org/stable/modules/model_evaluation.html).  Try to repeat your experiments until you reach a reasonable accuracy result."
   ]
  },
  {
   "cell_type": "code",
   "execution_count": 7,
   "metadata": {},
   "outputs": [
    {
     "name": "stdout",
     "output_type": "stream",
     "text": [
      "[[70 66]\n",
      " [46 56]]\n"
     ]
    },
    {
     "data": {
      "text/plain": [
       "0.5294117647058824"
      ]
     },
     "execution_count": 7,
     "metadata": {},
     "output_type": "execute_result"
    }
   ],
   "source": [
    "cm = confusion_matrix(Ytest,predictions) # <- YOUR CONFUSION MATRIX CODE GOES HERE\n",
    "from sklearn.metrics import accuracy_score\n",
    "accuracy = accuracy_score(Ytest,predictions)# <- YOUR ACCURACY CODE GOES HERE\n",
    "print(cm)\n",
    "accuracy"
   ]
  },
  {
   "cell_type": "markdown",
   "metadata": {},
   "source": [
    "As you observed, your accuracy is really terrible.  Inspect the data, make a plot and observe that k-means **will never** produce a usable estimate of clusters for this dataset:"
   ]
  },
  {
   "cell_type": "code",
   "execution_count": 8,
   "metadata": {},
   "outputs": [
    {
     "data": {
      "image/png": "[encoded data removed]",
      "text/plain": [
       "<Figure size 432x288 with 1 Axes>"
      ]
     },
     "metadata": {
      "needs_background": "light"
     },
     "output_type": "display_data"
    }
   ],
   "source": [
    "## Do your inspections and plots in this cell\n",
    "%matplotlib inline\n",
    "import matplotlib.pyplot as plt\n",
    "plt.scatter(task2_data.iloc[:500, 0], task2_data.iloc[:500, 1],color='red', marker='o', label='0s')\n",
    "plt.scatter(task2_data.iloc[500:950, 0], task2_data.iloc[500:950, 1],color='blue', marker='x', label='1s')\n",
    "plt.xlabel('x')\n",
    "plt.ylabel('y')\n",
    "plt.legend(loc='upper left')\n",
    "plt.show()"
   ]
  },
  {
   "cell_type": "markdown",
   "metadata": {},
   "source": [
    "In this cell, write an explanation as to why the k-means algorithm will never work:\n",
    "\n",
    "### Your explanation goes below\n",
    "\n",
    "K-means works with the idea of centroid so that their centroids are very close and model does not work.."
   ]
  },
  {
   "cell_type": "markdown",
   "metadata": {},
   "source": [
    "## Task 3\n",
    "\n",
    "Now, instead of using k-means model, let us use a k-nn model.  Below, using [`sklearn.neighbors.KNeighborsClassifier`](http://scikit-learn.org/stable/modules/generated/sklearn.neighbors.KNeighborsClassifier.html) create a model, train it and use the test dataset to make predictions.  Use the same train-test datasets we created earlier.  You are free to choose the parameters 'k' and the 'metric':"
   ]
  },
  {
   "cell_type": "code",
   "execution_count": 9,
   "metadata": {},
   "outputs": [],
   "source": [
    "model = KNeighborsClassifier(n_neighbors=2,metric=\"minkowski\")\n",
    "model.fit(Xtrain,Ytrain) # <- YOUR CODE SHOULD REPLACE ?????\n",
    "predictions = model.predict(Xtest)  # <- YOUR CODE GOES HERE"
   ]
  },
  {
   "cell_type": "markdown",
   "metadata": {},
   "source": [
    "Now, construct the confusion matrix, and calculate your accuracy."
   ]
  },
  {
   "cell_type": "code",
   "execution_count": 10,
   "metadata": {},
   "outputs": [
    {
     "data": {
      "text/plain": [
       "1.0"
      ]
     },
     "execution_count": 10,
     "metadata": {},
     "output_type": "execute_result"
    }
   ],
   "source": [
    "cm = confusion_matrix(Ytest,predictions) # <- YOUR CONFUSION MATRIX CODE GOES HERE\n",
    "accuracy =accuracy_score(Ytest,predictions) # <- YOUR ACCURACY CODE GOES HERE\n",
    "accuracy"
   ]
  },
  {
   "cell_type": "markdown",
   "metadata": {},
   "source": [
    "Accuracy is much better. Explain below why, in theory, this method does produce better results in this case:\n",
    "\n",
    "### Your explanation goes below\n",
    "\n",
    "İdea of knn which Points are belonged to (according the choosen metric) nearest class so beside of kmeans we can easily see that it will be more accurate "
   ]
  },
  {
   "cell_type": "markdown",
   "metadata": {},
   "source": [
    "## Task 4\n",
    "\n",
    "Using [`pandas.read_excel`]() read the [Breast Tissue Data Set](https://archive.ics.uci.edu/ml/datasets/Breast+Tissue) which is at 'data/BreastTissue.xlsx'"
   ]
  },
  {
   "cell_type": "code",
   "execution_count": 11,
   "metadata": {},
   "outputs": [],
   "source": [
    "data = pd.read_excel(\"../data/BreastTissue.xlsx\") # your code goes here\n",
    "data.head(10)\n",
    "xs = data.iloc[:,1:]\n",
    "ys = data.iloc[:,0]"
   ]
  },
  {
   "cell_type": "markdown",
   "metadata": {},
   "source": [
    "Now, create a k-nn model, train and test it. Your dependent variable is `Class` column. You are free to choose `k` and the `metric`:"
   ]
  },
  {
   "cell_type": "code",
   "execution_count": 12,
   "metadata": {},
   "outputs": [],
   "source": [
    "Xtrain, Xtest, Ytrain, Ytest = train_test_split(xs,ys,test_size=0.25)# CODE GOES HERE"
   ]
  },
  {
   "cell_type": "code",
   "execution_count": 13,
   "metadata": {},
   "outputs": [
    {
     "name": "stdout",
     "output_type": "stream",
     "text": [
      "[[6 1 0 0 0 0]\n",
      " [0 4 0 0 0 3]\n",
      " [1 0 1 0 0 2]\n",
      " [0 0 0 0 4 2]\n",
      " [0 0 0 1 0 2]\n",
      " [0 0 0 0 0 0]]\n",
      "0.4074074074074074\n"
     ]
    }
   ],
   "source": [
    "model = KNeighborsClassifier(n_neighbors=5,metric=\"euclidean\")\n",
    "model.fit(Xtrain,Ytrain)\n",
    "predicted = model.predict(Xtest)\n",
    "cm = confusion_matrix(Ytest,predicted)\n",
    "accuracy = accuracy_score(Ytest,predicted)\n",
    "print(cm)\n",
    "print(accuracy)"
   ]
  },
  {
   "cell_type": "markdown",
   "metadata": {},
   "source": [
    "Now, using [feature scaling](http://scikit-learn.org/stable/modules/preprocessing.html), specifically, using [`StandardScaler`](http://scikit-learn.org/stable/modules/generated/sklearn.preprocessing.StandardScaler.html#sklearn.preprocessing.StandardScaler) normalize the feature columns `xs` we defined earlier below:"
   ]
  },
  {
   "cell_type": "code",
   "execution_count": 14,
   "metadata": {},
   "outputs": [],
   "source": [
    "scaler = StandardScaler()\n",
    "scaler.fit(xs)\n",
    "xs =  scaler.transform(xs)# your code goes here"
   ]
  },
  {
   "cell_type": "markdown",
   "metadata": {},
   "source": [
    "Now, repeat mdoel construction, training, testing and accuracy calculation"
   ]
  },
  {
   "cell_type": "code",
   "execution_count": 15,
   "metadata": {},
   "outputs": [
    {
     "name": "stdout",
     "output_type": "stream",
     "text": [
      "[[3 0 0 0 0 0]\n",
      " [0 8 0 0 1 1]\n",
      " [0 0 2 0 0 0]\n",
      " [0 0 0 0 1 1]\n",
      " [0 1 0 0 4 0]\n",
      " [0 1 0 1 2 1]]\n",
      "0.6666666666666666\n"
     ]
    }
   ],
   "source": [
    "Xtrain, Xtest, Ytrain, Ytest = train_test_split(xs,ys,test_size=0.25)\n",
    "model = KNeighborsClassifier(n_neighbors=6,metric=\"euclidean\")\n",
    "model.fit(Xtrain,Ytrain)\n",
    "predicted = model.predict(Xtest)\n",
    "cm = confusion_matrix(Ytest,predicted)\n",
    "accuracy = accuracy_score(Ytest,predicted)\n",
    "print(cm)\n",
    "print(accuracy)"
   ]
  },
  {
   "cell_type": "markdown",
   "metadata": {},
   "source": [
    "Why did we get better results? Explain below:\n",
    "\n",
    "### Your explanation goes below\n",
    "\n",
    "Somevalues can be dominant so if we remove the standard deviation ,they will show real impact on output and we can do better predictions like that above"
   ]
  },
  {
   "cell_type": "markdown",
   "metadata": {},
   "source": [
    "## Task 5\n",
    "\n",
    "Now, construct a k-nn model for the same dataset [Breast Tissue Data Set](https://archive.ics.uci.edu/ml/datasets/Breast+Tissue) which is at 'data/BreastTissue.xlsx' first using the original data, then again, using feature scaling. At the end compare accuracies."
   ]
  },
  {
   "cell_type": "code",
   "execution_count": 16,
   "metadata": {},
   "outputs": [],
   "source": [
    "## Your code goes here"
   ]
  },
  {
   "cell_type": "code",
   "execution_count": 17,
   "metadata": {},
   "outputs": [
    {
     "data": {
      "text/html": [
       "<div>\n",
       "<style scoped>\n",
       "    .dataframe tbody tr th:only-of-type {\n",
       "        vertical-align: middle;\n",
       "    }\n",
       "\n",
       "    .dataframe tbody tr th {\n",
       "        vertical-align: top;\n",
       "    }\n",
       "\n",
       "    .dataframe thead th {\n",
       "        text-align: right;\n",
       "    }\n",
       "</style>\n",
       "<table border=\"1\" class=\"dataframe\">\n",
       "  <thead>\n",
       "    <tr style=\"text-align: right;\">\n",
       "      <th></th>\n",
       "      <th>I0</th>\n",
       "      <th>PA500</th>\n",
       "      <th>HFS</th>\n",
       "      <th>DA</th>\n",
       "      <th>Area</th>\n",
       "      <th>A/DA</th>\n",
       "      <th>Max IP</th>\n",
       "      <th>DR</th>\n",
       "      <th>P</th>\n",
       "    </tr>\n",
       "  </thead>\n",
       "  <tbody>\n",
       "    <tr>\n",
       "      <th>0</th>\n",
       "      <td>524.794072</td>\n",
       "      <td>0.187448</td>\n",
       "      <td>0.032114</td>\n",
       "      <td>228.800228</td>\n",
       "      <td>6843.598481</td>\n",
       "      <td>29.910803</td>\n",
       "      <td>60.204880</td>\n",
       "      <td>220.737212</td>\n",
       "      <td>556.828334</td>\n",
       "    </tr>\n",
       "    <tr>\n",
       "      <th>1</th>\n",
       "      <td>330.000000</td>\n",
       "      <td>0.226893</td>\n",
       "      <td>0.265290</td>\n",
       "      <td>121.154201</td>\n",
       "      <td>3163.239472</td>\n",
       "      <td>26.109202</td>\n",
       "      <td>69.717361</td>\n",
       "      <td>99.084964</td>\n",
       "      <td>400.225776</td>\n",
       "    </tr>\n",
       "    <tr>\n",
       "      <th>2</th>\n",
       "      <td>551.879287</td>\n",
       "      <td>0.232478</td>\n",
       "      <td>0.063530</td>\n",
       "      <td>264.804935</td>\n",
       "      <td>11888.391827</td>\n",
       "      <td>44.894903</td>\n",
       "      <td>77.793297</td>\n",
       "      <td>253.785300</td>\n",
       "      <td>656.769449</td>\n",
       "    </tr>\n",
       "    <tr>\n",
       "      <th>3</th>\n",
       "      <td>380.000000</td>\n",
       "      <td>0.240855</td>\n",
       "      <td>0.286234</td>\n",
       "      <td>137.640111</td>\n",
       "      <td>5402.171180</td>\n",
       "      <td>39.248524</td>\n",
       "      <td>88.758446</td>\n",
       "      <td>105.198568</td>\n",
       "      <td>493.701814</td>\n",
       "    </tr>\n",
       "    <tr>\n",
       "      <th>4</th>\n",
       "      <td>362.831266</td>\n",
       "      <td>0.200713</td>\n",
       "      <td>0.244346</td>\n",
       "      <td>124.912559</td>\n",
       "      <td>3290.462446</td>\n",
       "      <td>26.342127</td>\n",
       "      <td>69.389389</td>\n",
       "      <td>103.866552</td>\n",
       "      <td>424.796503</td>\n",
       "    </tr>\n",
       "  </tbody>\n",
       "</table>\n",
       "</div>"
      ],
      "text/plain": [
       "           I0     PA500       HFS          DA          Area       A/DA  \\\n",
       "0  524.794072  0.187448  0.032114  228.800228   6843.598481  29.910803   \n",
       "1  330.000000  0.226893  0.265290  121.154201   3163.239472  26.109202   \n",
       "2  551.879287  0.232478  0.063530  264.804935  11888.391827  44.894903   \n",
       "3  380.000000  0.240855  0.286234  137.640111   5402.171180  39.248524   \n",
       "4  362.831266  0.200713  0.244346  124.912559   3290.462446  26.342127   \n",
       "\n",
       "      Max IP          DR           P  \n",
       "0  60.204880  220.737212  556.828334  \n",
       "1  69.717361   99.084964  400.225776  \n",
       "2  77.793297  253.785300  656.769449  \n",
       "3  88.758446  105.198568  493.701814  \n",
       "4  69.389389  103.866552  424.796503  "
      ]
     },
     "execution_count": 17,
     "metadata": {},
     "output_type": "execute_result"
    }
   ],
   "source": [
    "data=pd.read_excel(\"../data/BreastTissue.xlsx\")\n",
    "data.head()\n",
    "data.iloc[:,1:10].head()"
   ]
  },
  {
   "cell_type": "code",
   "execution_count": 18,
   "metadata": {},
   "outputs": [
    {
     "name": "stdout",
     "output_type": "stream",
     "text": [
      "[[ 2  0  1  0 10]\n",
      " [ 0  0  6  0  0]\n",
      " [ 0  0 11  0  0]\n",
      " [ 1  0  4  0  3]\n",
      " [ 6  0  0  5  4]]\n",
      "0.32075471698113206\n"
     ]
    }
   ],
   "source": [
    "Xtrain, Xtest, Ytrain, Ytest = train_test_split(data.iloc[:,1:10],data.iloc[:,0],test_size=0.5)\n",
    "model=KMeans(n_clusters=5)\n",
    "model.fit(Xtrain)\n",
    "predicted=model.predict(Xtest)\n",
    "labels = {\"car\":0, \"fad\":1, \"mas\":2,\"gla\":3,\"con\":3,\"adi\":4}\n",
    "real = Ytest.map(lambda x: labels[x])\n",
    "cm=confusion_matrix(real,predicted)\n",
    "accuracy=accuracy_score(real,predicted)\n",
    "print(cm)\n",
    "print(accuracy)"
   ]
  },
  {
   "cell_type": "code",
   "execution_count": 19,
   "metadata": {},
   "outputs": [
    {
     "name": "stdout",
     "output_type": "stream",
     "text": [
      "[[3 0 0 8 0]\n",
      " [9 0 0 0 0]\n",
      " [9 0 0 2 0]\n",
      " [8 8 0 1 0]\n",
      " [0 2 3 0 0]]\n",
      "0.07547169811320754\n"
     ]
    }
   ],
   "source": [
    "x=data.iloc[:,1:10]\n",
    "y=data.iloc[:,0]\n",
    "scaler = StandardScaler()\n",
    "scaler.fit(x)\n",
    "x =  scaler.transform(x)\n",
    "Xtrain, Xtest, Ytrain, Ytest = train_test_split(x,y,test_size=0.5)\n",
    "model=KMeans(n_clusters=5)\n",
    "model.fit(Xtrain)\n",
    "predicted=model.predict(Xtest)\n",
    "labels = {\"car\":0, \"fad\":1, \"mas\":2,\"gla\":3,\"con\":3,\"adi\":4}\n",
    "real = Ytest.map(lambda x: labels[x])\n",
    "cm=confusion_matrix(real,predicted)\n",
    "accuracy=accuracy_score(real,predicted)\n",
    "print(cm)\n",
    "print(accuracy)"
   ]
  },
  {
   "cell_type": "code",
   "execution_count": 29,
   "metadata": {},
   "outputs": [
    {
     "name": "stdout",
     "output_type": "stream",
     "text": [
      "[[ 5  0  0  2  6]\n",
      " [10  0  0  0  0]\n",
      " [ 5  0  0  0  1]\n",
      " [13  0  0  1  3]\n",
      " [ 1  0  2  4  0]]\n",
      "0.11320754716981132\n"
     ]
    }
   ],
   "source": [
    "withoutscaling=[]\n",
    "data=pd.read_excel(\"../data/BreastTissue.xlsx\")\n",
    "for i in range(10):\n",
    "    Xtrain, Xtest, Ytrain, Ytest = train_test_split(data.iloc[:,1:10],data.iloc[:,0],test_size=0.5)\n",
    "    model=KMeans(n_clusters=5)\n",
    "    model.fit(Xtrain)\n",
    "    predicted=model.predict(Xtest)\n",
    "    labels = {\"car\":0, \"fad\":1, \"mas\":2,\"gla\":3,\"con\":3,\"adi\":4}\n",
    "    real = Ytest.map(lambda x: labels[x])\n",
    "    cm=confusion_matrix(real,predicted)\n",
    "    accuracy=accuracy_score(real,predicted)\n",
    "    withoutscaling=withoutscaling +[accuracy]\n",
    "\n",
    "print(cm)\n",
    "print(accuracy)"
   ]
  },
  {
   "cell_type": "code",
   "execution_count": 30,
   "metadata": {},
   "outputs": [
    {
     "name": "stdout",
     "output_type": "stream",
     "text": [
      "[[0 5 0 7 0]\n",
      " [0 8 0 0 0]\n",
      " [0 7 0 1 0]\n",
      " [3 9 0 0 0]\n",
      " [4 1 0 0 8]]\n",
      "0.3018867924528302\n"
     ]
    }
   ],
   "source": [
    "withscaling=[]\n",
    "data=pd.read_excel(\"../data/BreastTissue.xlsx\")\n",
    "for i in range(10):\n",
    "    x=data.iloc[:,1:10]\n",
    "    y=data.iloc[:,0]\n",
    "    scaler = StandardScaler()\n",
    "    scaler.fit(x)\n",
    "    x =  scaler.transform(x)\n",
    "    Xtrain, Xtest, Ytrain, Ytest = train_test_split(x,y,test_size=0.5)\n",
    "    model=KMeans(n_clusters=5)\n",
    "    model.fit(Xtrain)\n",
    "    predicted=model.predict(Xtest)\n",
    "    labels = {\"car\":0, \"fad\":1, \"mas\":2,\"gla\":3,\"con\":3,\"adi\":4}\n",
    "    real = Ytest.map(lambda x: labels[x])\n",
    "    cm=confusion_matrix(real,predicted)\n",
    "    accuracy=accuracy_score(real,predicted)\n",
    "    withscaling=withscaling+ [accuracy]\n",
    "print(cm)\n",
    "print(accuracy)"
   ]
  },
  {
   "cell_type": "code",
   "execution_count": 31,
   "metadata": {},
   "outputs": [
    {
     "name": "stdout",
     "output_type": "stream",
     "text": [
      "Approximately Percentage of difference: 0.7844827586206896\n"
     ]
    },
    {
     "data": {
      "image/png": "[encoded data removed]",
      "text/plain": [
       "<Figure size 432x288 with 1 Axes>"
      ]
     },
     "metadata": {
      "needs_background": "light"
     },
     "output_type": "display_data"
    }
   ],
   "source": [
    "import numpy as np\n",
    "plt.plot(withscaling)\n",
    "plt.plot(withoutscaling)\n",
    "print(\"Approximately Percentage of difference:\",np.mean(withscaling)/np.mean(withoutscaling))\n",
    "plt.show()"
   ]
  },
  {
   "cell_type": "markdown",
   "metadata": {},
   "source": [
    "İn the graph we can see that there is no meaningful movement so it doesn't matter if we didn't use right algorithm there is no impact of scaling "
   ]
  },
  {
   "cell_type": "code",
   "execution_count": null,
   "metadata": {},
   "outputs": [],
   "source": []
  }
 ],
 "metadata": {
  "kernelspec": {
   "display_name": "Python 3",
   "language": "python",
   "name": "python3"
  },
  "language_info": {
   "codemirror_mode": {
    "name": "ipython",
    "version": 3
   },
   "file_extension": ".py",
   "mimetype": "text/x-python",
   "name": "python",
   "nbconvert_exporter": "python",
   "pygments_lexer": "ipython3",
   "version": "3.6.6"
  }
 },
 "nbformat": 4,
 "nbformat_minor": 2
}
