{
 "cells": [
  {
   "cell_type": "markdown",
   "metadata": {},
   "source": [
    "# Homework 6\n",
    "\n",
    "\n",
    "## EMNIST Dataset\n",
    "\n",
    "[EMNIST dataset](https://www.nist.gov/itl/iad/image-group/emnist-dataset) is a set of hand-written characters and digits. Each of the data points is a grayscale image of size 28x28 pixels.  The structure of the dataset is the same as the infamous [MNIST](http://yann.lecun.com/exdb/mnist/) dataset, but this dataset contains more samples and also contains characters. You can find more information on the dataset in the paper available at [https://arxiv.org/abs/1702.05373v1](https://arxiv.org/abs/1702.05373v1)\n",
    "\n",
    "You can find the dataset you need [at this link](https://www.dropbox.com/sh/vgap8ici7xs5w7f/AACE-9RrDpbGCc6bP72gHRfUa?dl=0).  Please download and use your local copy to do the homework.\n",
    "\n",
    "## Task 1\n",
    "\n",
    "Ingest the data (both the train and test sets) into this pyhthon notebook as a numpy array.\n",
    "\n",
    "\n",
    "## Task 2\n",
    "\n",
    "Write a convolutional artifial neural network model, train it and test it.\n",
    "\n",
    "\n",
    "## Notes\n",
    "\n",
    "1. You need to document each of your steps in both the ingestion phase and processing phase: explain the steps taken, the problems you encounter, how you solved them.\n",
    "\n",
    "2. DO NOT write python classes.  In other words, I do not want to see `__init__` or `__main__` in your code.  They are hard to follow (as they contain mutable state) and hard to port to future code you might write on a similar project.\n",
    "\n",
    "3. When you upload your solution to github, DO NOT include the datasets. They are large and I already have copies. I can test your models on the copy I have."
   ]
  },
  {
   "cell_type": "markdown",
   "metadata": {},
   "source": [
    "# TASK 1:"
   ]
  },
  {
   "cell_type": "code",
   "execution_count": 145,
   "metadata": {},
   "outputs": [],
   "source": [
    "from mlxtend.data import loadlocal_mnist\n",
    "X_train, y_train = loadlocal_mnist(\n",
    "        images_path=\"..\\\\data\\\\EMNIST\\\\emnist-balanced-train-images-idx3-ubyte\", \n",
    "        labels_path=\"..\\\\data\\\\EMNIST\\\\emnist-balanced-train-labels-idx1-ubyte\")"
   ]
  },
  {
   "cell_type": "code",
   "execution_count": 146,
   "metadata": {},
   "outputs": [],
   "source": [
    "X_test, y_test = loadlocal_mnist(\n",
    "        images_path=\"..\\\\data\\\\EMNIST\\\\emnist-balanced-test-images-idx3-ubyte\", \n",
    "        labels_path=\"..\\\\data\\\\EMNIST\\\\emnist-balanced-test-labels-idx1-ubyte\")"
   ]
  },
  {
   "cell_type": "markdown",
   "metadata": {},
   "source": [
    "Converting to categorical"
   ]
  },
  {
   "cell_type": "code",
   "execution_count": 147,
   "metadata": {},
   "outputs": [
    {
     "data": {
      "text/plain": [
       "(112800, 784)"
      ]
     },
     "execution_count": 147,
     "metadata": {},
     "output_type": "execute_result"
    }
   ],
   "source": [
    "from keras.utils import to_categorical\n",
    "y_train=to_categorical(y_train)\n",
    "y_test=to_categorical(y_test)"
   ]
  },
  {
   "cell_type": "code",
   "execution_count": 163,
   "metadata": {},
   "outputs": [
    {
     "name": "stdout",
     "output_type": "stream",
     "text": [
      "Train inputs : shape- (112800, 784) type: <class 'numpy.ndarray'> \n",
      " label shape- (112800, 47) type: <class 'numpy.ndarray'>\n"
     ]
    }
   ],
   "source": [
    "print(\"Train inputs :\",\"shape-\",X_train.shape,\"type:\",type(X_train),\"\\n\",\"label shape-\",y_train.shape,\"type:\",type(y_train))"
   ]
  },
  {
   "cell_type": "markdown",
   "metadata": {},
   "source": [
    "# Task 2:"
   ]
  },
  {
   "cell_type": "code",
   "execution_count": 153,
   "metadata": {},
   "outputs": [],
   "source": [
    "from keras.layers import Dense ,Dropout ,Conv2D ,Flatten , MaxPooling2D\n",
    "from keras.models import Sequential"
   ]
  },
  {
   "cell_type": "markdown",
   "metadata": {},
   "source": [
    "layerları ekledim.validation split i de fit ederken kontrol etsin diye yazdık.."
   ]
  },
  {
   "cell_type": "code",
   "execution_count": 157,
   "metadata": {},
   "outputs": [
    {
     "name": "stdout",
     "output_type": "stream",
     "text": [
      "Train on 90240 samples, validate on 22560 samples\n",
      "Epoch 1/12\n",
      "90240/90240 [==============================] - 190s 2ms/step - loss: 0.8275 - acc: 0.7457 - val_loss: 0.6155 - val_acc: 0.7993\n",
      "Epoch 2/12\n",
      "90240/90240 [==============================] - 203s 2ms/step - loss: 0.5485 - acc: 0.8222 - val_loss: 0.5314 - val_acc: 0.8287\n",
      "Epoch 3/12\n",
      "90240/90240 [==============================] - 197s 2ms/step - loss: 0.4963 - acc: 0.8363 - val_loss: 0.5127 - val_acc: 0.8341\n",
      "Epoch 4/12\n",
      "90240/90240 [==============================] - 192s 2ms/step - loss: 0.4618 - acc: 0.8447 - val_loss: 0.4756 - val_acc: 0.8421\n",
      "Epoch 5/12\n",
      "90240/90240 [==============================] - 118s 1ms/step - loss: 0.4413 - acc: 0.8498 - val_loss: 0.4633 - val_acc: 0.8496\n",
      "Epoch 6/12\n",
      "90240/90240 [==============================] - 115s 1ms/step - loss: 0.4240 - acc: 0.8555 - val_loss: 0.4564 - val_acc: 0.8520\n",
      "Epoch 7/12\n",
      "90240/90240 [==============================] - 117s 1ms/step - loss: 0.4114 - acc: 0.8581 - val_loss: 0.4767 - val_acc: 0.8449\n",
      "Epoch 8/12\n",
      "90240/90240 [==============================] - 116s 1ms/step - loss: 0.4002 - acc: 0.8613 - val_loss: 0.4501 - val_acc: 0.8504\n",
      "Epoch 9/12\n",
      "90240/90240 [==============================] - 116s 1ms/step - loss: 0.3912 - acc: 0.8643 - val_loss: 0.4605 - val_acc: 0.8447\n",
      "Epoch 10/12\n",
      "90240/90240 [==============================] - 116s 1ms/step - loss: 0.3869 - acc: 0.8651 - val_loss: 0.4545 - val_acc: 0.8466\n",
      "Epoch 11/12\n",
      "90240/90240 [==============================] - 113s 1ms/step - loss: 0.3810 - acc: 0.8664 - val_loss: 0.4412 - val_acc: 0.8529\n",
      "Epoch 12/12\n",
      "90240/90240 [==============================] - 116s 1ms/step - loss: 0.3749 - acc: 0.8696 - val_loss: 0.4431 - val_acc: 0.8506\n"
     ]
    },
    {
     "data": {
      "text/plain": [
       "<keras.callbacks.History at 0x1f035820cf8>"
      ]
     },
     "execution_count": 157,
     "metadata": {},
     "output_type": "execute_result"
    }
   ],
   "source": [
    "model = Sequential()\n",
    "#convolutional layer\n",
    "\n",
    "model.add(Conv2D(128, (6,6), input_shape=(28,28,1), activation='tanh'))\n",
    "\n",
    "model.add(Dense(32,activation='relu'))\n",
    "model.add(Dropout(0.25))\n",
    "\n",
    "model.add(MaxPooling2D(pool_size=(4,4)))\n",
    "#flatten the data\n",
    "model.add(Flatten())\n",
    "\n",
    "#layer output 47\n",
    "model.add(Dense(47, activation='sigmoid'))\n",
    "\n",
    "\n",
    "#fitting the model\n",
    "model.compile(loss='categorical_crossentropy', metrics=['accuracy'], optimizer='adam')\n",
    "\n",
    "#compiling the model\n",
    "model.fit(X_train.reshape(len(X_train),28,28,1), y_train, batch_size=32, epochs=12,validation_split=0.2)"
   ]
  },
  {
   "cell_type": "code",
   "execution_count": 167,
   "metadata": {},
   "outputs": [
    {
     "name": "stdout",
     "output_type": "stream",
     "text": [
      "18800/18800 [==============================] - 7s 352us/step\n"
     ]
    },
    {
     "data": {
      "text/plain": [
       "[0.45521387854789164, 0.8493617021276596]"
      ]
     },
     "execution_count": 167,
     "metadata": {},
     "output_type": "execute_result"
    }
   ],
   "source": [
    "#testing the model\n",
    "X_test=X_test.reshape(18800,28,28,1)\n",
    "model.evaluate(X_test, y_test)"
   ]
  },
  {
   "cell_type": "code",
   "execution_count": 168,
   "metadata": {},
   "outputs": [
    {
     "name": "stdout",
     "output_type": "stream",
     "text": [
      "_________________________________________________________________\n",
      "Layer (type)                 Output Shape              Param #   \n",
      "=================================================================\n",
      "conv2d_53 (Conv2D)           (None, 23, 23, 128)       4736      \n",
      "_________________________________________________________________\n",
      "dense_75 (Dense)             (None, 23, 23, 32)        4128      \n",
      "_________________________________________________________________\n",
      "dropout_38 (Dropout)         (None, 23, 23, 32)        0         \n",
      "_________________________________________________________________\n",
      "max_pooling2d_12 (MaxPooling (None, 5, 5, 32)          0         \n",
      "_________________________________________________________________\n",
      "flatten_21 (Flatten)         (None, 800)               0         \n",
      "_________________________________________________________________\n",
      "dense_76 (Dense)             (None, 47)                37647     \n",
      "=================================================================\n",
      "Total params: 46,511\n",
      "Trainable params: 46,511\n",
      "Non-trainable params: 0\n",
      "_________________________________________________________________\n"
     ]
    }
   ],
   "source": [
    "#summary of the model\n",
    "model.summary()"
   ]
  },
  {
   "cell_type": "code",
   "execution_count": null,
   "metadata": {},
   "outputs": [],
   "source": []
  }
 ],
 "metadata": {
  "kernelspec": {
   "display_name": "Python 3",
   "language": "python",
   "name": "python3"
  },
  "language_info": {
   "codemirror_mode": {
    "name": "ipython",
    "version": 3
   },
   "file_extension": ".py",
   "mimetype": "text/x-python",
   "name": "python",
   "nbconvert_exporter": "python",
   "pygments_lexer": "ipython3",
   "version": "3.6.7"
  }
 },
 "nbformat": 4,
 "nbformat_minor": 2
}
