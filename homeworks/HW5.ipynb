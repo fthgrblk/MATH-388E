{
 "cells": [
  {
   "cell_type": "markdown",
   "metadata": {},
   "source": [
    "# HW5\n",
    "\n",
    "For this homework, we are going to work with [*Indoor User Movement Prediction from RSS data*](https://archive.ics.uci.edu/ml/datasets/Indoor+User+Movement+Prediction+from+RSS+data) dataset from UCI.  The homework is due Friday, December 21st midnight. \n",
    "\n",
    "## Task 1\n",
    "\n",
    "Download the dataset and unzip it in under a subdirectory of `data` folder named `rss_data`.\n",
    "\n",
    "The files we are interested is in the subfolder `dataset`.  Each of these files whose names that start with `MovementAAL_RSS_` contain data collected from indivuduals. Each of these files represent a single data point.  There are 314 of these files, and hence, you have 314 data points.  Each file has 4 columns but the number of rows change from file to file.  \n",
    "\n",
    "There is also a file named `MovementALL_target.csv` in that folder. This file tells us the class each of these measurements are assigned. Some of these measurements are labelled with +1 and some are labelled with -1.\n",
    "\n",
    "## Task 2\n",
    "\n",
    "Construct a SVM model that separates +1 labelled data points from -1 data points.  You must first solve the problem that these datapoints do not have the same number of rows even though they all have the same number of columns. \n",
    "\n",
    "## Task 3\n",
    "\n",
    "Using [Keras](https://keras.io/getting-started/sequential-model-guide/) write a neural network model that separates +1 labelled data points from -1 data points.\n",
    "\n",
    "## Notes\n",
    "\n",
    "1. You must document each step of your tasks: what are you doing, why are you doing it, what problems you encountered and how you solved it.  All of these must be explained and documented.  Solutions without sufficient documentations will be penalized accordingly. 50% of your points will come from your code, while the other 50% will come from your explanations.\n",
    "\n",
    "1. You can use MS Excel to inspect the files, but loading them up to python using pandas and inspecting them there under jupyter is easier.\n",
    "\n",
    "3. Put the data in a separate subfolder of your `data` folder and rename it `rss_data`. I'll take points off if the data is not saved under the correct place.\n",
    "\n",
    "1. For both of Task 2 and Task 3, you must split your data into a train and test set, and then evaluate the accuracy of your model on the test set.\n",
    "\n"
   ]
  },
  {
   "cell_type": "markdown",
   "metadata": {},
   "source": [
    "\n",
    "# TASK 1:"
   ]
  },
  {
   "cell_type": "markdown",
   "metadata": {},
   "source": [
    "Data yı hazırlıyoruz"
   ]
  },
  {
   "cell_type": "code",
   "execution_count": 1,
   "metadata": {},
   "outputs": [],
   "source": [
    "import glob\n",
    "import pandas as pd\n",
    "import numpy as np"
   ]
  },
  {
   "cell_type": "markdown",
   "metadata": {},
   "source": [
    "Gerekli kütüphaneler yüklendi"
   ]
  },
  {
   "cell_type": "code",
   "execution_count": 2,
   "metadata": {},
   "outputs": [],
   "source": [
    "csv_files=glob.glob(\"..//data//rss_data//dataset//MovementAAL_RSS_*.csv\")\n",
    "frames=[]\n",
    "for csv in csv_files:\n",
    "    df=pd.read_csv(csv)\n",
    "    frames.append(df)"
   ]
  },
  {
   "cell_type": "markdown",
   "metadata": {},
   "source": [
    "glob kütüphanesinin glob fonksiyonuyla 314 adet datayı csv_files listesine atadık for döngüsüyle de frames listesine attık"
   ]
  },
  {
   "cell_type": "code",
   "execution_count": 3,
   "metadata": {},
   "outputs": [
    {
     "name": "stdout",
     "output_type": "stream",
     "text": [
      "19\n"
     ]
    }
   ],
   "source": [
    "a=100\n",
    "for i in frames:\n",
    "    a=min(a,len(i))\n",
    "print(a)"
   ]
  },
  {
   "cell_type": "markdown",
   "metadata": {},
   "source": [
    "Datalar eşit değil en düşük olan sayıdakini bulup sondan kesicez son bulunduğu lokasyonu tespit için"
   ]
  },
  {
   "cell_type": "code",
   "execution_count": 4,
   "metadata": {},
   "outputs": [],
   "source": [
    "l=[]\n",
    "for i in frames:\n",
    "    for row in range(1,20):\n",
    "        for col in range(4):\n",
    "            l.append(i.iloc[-row,col])"
   ]
  },
  {
   "cell_type": "markdown",
   "metadata": {},
   "source": [
    "tüm datayı düz liste yapıp tekrar şekillendirip dataframe haline getiriyorum"
   ]
  },
  {
   "cell_type": "code",
   "execution_count": 5,
   "metadata": {},
   "outputs": [],
   "source": [
    "k=np.array(l)"
   ]
  },
  {
   "cell_type": "code",
   "execution_count": 6,
   "metadata": {},
   "outputs": [],
   "source": [
    "k=k.reshape(314,76)"
   ]
  },
  {
   "cell_type": "code",
   "execution_count": 7,
   "metadata": {},
   "outputs": [],
   "source": [
    "df=pd.DataFrame(k)"
   ]
  },
  {
   "cell_type": "markdown",
   "metadata": {},
   "source": [
    "target datasını çekiyorum hangi odada fln olduğunu gösteren data ,(314,2) geldiği için sequence kolonunu atıyorum"
   ]
  },
  {
   "cell_type": "code",
   "execution_count": 8,
   "metadata": {},
   "outputs": [],
   "source": [
    "targets = pd.read_csv('..//data//rss_data//dataset//MovementAAL_target.csv')\n",
    "targets=targets.drop(\"#sequence_ID\",axis=1)"
   ]
  },
  {
   "cell_type": "code",
   "execution_count": 9,
   "metadata": {},
   "outputs": [],
   "source": [
    "df=np.column_stack([df,targets])"
   ]
  },
  {
   "cell_type": "code",
   "execution_count": 10,
   "metadata": {},
   "outputs": [
    {
     "data": {
      "text/html": [
       "<div>\n",
       "<style scoped>\n",
       "    .dataframe tbody tr th:only-of-type {\n",
       "        vertical-align: middle;\n",
       "    }\n",
       "\n",
       "    .dataframe tbody tr th {\n",
       "        vertical-align: top;\n",
       "    }\n",
       "\n",
       "    .dataframe thead th {\n",
       "        text-align: right;\n",
       "    }\n",
       "</style>\n",
       "<table border=\"1\" class=\"dataframe\">\n",
       "  <thead>\n",
       "    <tr style=\"text-align: right;\">\n",
       "      <th></th>\n",
       "      <th>0</th>\n",
       "      <th>1</th>\n",
       "      <th>2</th>\n",
       "      <th>3</th>\n",
       "      <th>4</th>\n",
       "      <th>5</th>\n",
       "      <th>6</th>\n",
       "      <th>7</th>\n",
       "      <th>8</th>\n",
       "      <th>9</th>\n",
       "      <th>...</th>\n",
       "      <th>67</th>\n",
       "      <th>68</th>\n",
       "      <th>69</th>\n",
       "      <th>70</th>\n",
       "      <th>71</th>\n",
       "      <th>72</th>\n",
       "      <th>73</th>\n",
       "      <th>74</th>\n",
       "      <th>75</th>\n",
       "      <th>76</th>\n",
       "    </tr>\n",
       "  </thead>\n",
       "  <tbody>\n",
       "    <tr>\n",
       "      <th>0</th>\n",
       "      <td>-0.14286</td>\n",
       "      <td>-0.60</td>\n",
       "      <td>-0.28571</td>\n",
       "      <td>-0.10</td>\n",
       "      <td>0.00000</td>\n",
       "      <td>0.04</td>\n",
       "      <td>-0.047619</td>\n",
       "      <td>-0.05</td>\n",
       "      <td>0.00000</td>\n",
       "      <td>0.04</td>\n",
       "      <td>...</td>\n",
       "      <td>0.40</td>\n",
       "      <td>-0.047619</td>\n",
       "      <td>0.04</td>\n",
       "      <td>-0.095238</td>\n",
       "      <td>0.05</td>\n",
       "      <td>-0.095238</td>\n",
       "      <td>-0.08</td>\n",
       "      <td>0.142860</td>\n",
       "      <td>-0.55</td>\n",
       "      <td>1.0</td>\n",
       "    </tr>\n",
       "    <tr>\n",
       "      <th>1</th>\n",
       "      <td>0.19048</td>\n",
       "      <td>0.04</td>\n",
       "      <td>-0.38095</td>\n",
       "      <td>0.20</td>\n",
       "      <td>0.19048</td>\n",
       "      <td>0.00</td>\n",
       "      <td>-0.190480</td>\n",
       "      <td>-0.25</td>\n",
       "      <td>0.14286</td>\n",
       "      <td>-0.04</td>\n",
       "      <td>...</td>\n",
       "      <td>0.10</td>\n",
       "      <td>0.000000</td>\n",
       "      <td>-0.12</td>\n",
       "      <td>0.142860</td>\n",
       "      <td>0.10</td>\n",
       "      <td>-0.285710</td>\n",
       "      <td>-0.24</td>\n",
       "      <td>0.095238</td>\n",
       "      <td>0.15</td>\n",
       "      <td>1.0</td>\n",
       "    </tr>\n",
       "    <tr>\n",
       "      <th>2</th>\n",
       "      <td>0.28571</td>\n",
       "      <td>0.56</td>\n",
       "      <td>-0.57143</td>\n",
       "      <td>-0.75</td>\n",
       "      <td>0.33333</td>\n",
       "      <td>0.40</td>\n",
       "      <td>-0.952380</td>\n",
       "      <td>-0.65</td>\n",
       "      <td>0.14286</td>\n",
       "      <td>0.56</td>\n",
       "      <td>...</td>\n",
       "      <td>-0.70</td>\n",
       "      <td>0.428570</td>\n",
       "      <td>0.04</td>\n",
       "      <td>-0.619050</td>\n",
       "      <td>-0.70</td>\n",
       "      <td>0.047619</td>\n",
       "      <td>0.32</td>\n",
       "      <td>-0.714290</td>\n",
       "      <td>-0.30</td>\n",
       "      <td>1.0</td>\n",
       "    </tr>\n",
       "    <tr>\n",
       "      <th>3</th>\n",
       "      <td>0.28571</td>\n",
       "      <td>0.20</td>\n",
       "      <td>-1.00000</td>\n",
       "      <td>-0.70</td>\n",
       "      <td>0.00000</td>\n",
       "      <td>0.04</td>\n",
       "      <td>-1.000000</td>\n",
       "      <td>-0.55</td>\n",
       "      <td>0.00000</td>\n",
       "      <td>0.04</td>\n",
       "      <td>...</td>\n",
       "      <td>-0.65</td>\n",
       "      <td>0.523810</td>\n",
       "      <td>0.60</td>\n",
       "      <td>-0.428570</td>\n",
       "      <td>-0.55</td>\n",
       "      <td>0.476190</td>\n",
       "      <td>0.32</td>\n",
       "      <td>-0.380950</td>\n",
       "      <td>-0.30</td>\n",
       "      <td>1.0</td>\n",
       "    </tr>\n",
       "    <tr>\n",
       "      <th>4</th>\n",
       "      <td>0.42857</td>\n",
       "      <td>0.68</td>\n",
       "      <td>-0.28571</td>\n",
       "      <td>-0.30</td>\n",
       "      <td>0.42857</td>\n",
       "      <td>0.76</td>\n",
       "      <td>-0.476190</td>\n",
       "      <td>-0.60</td>\n",
       "      <td>0.00000</td>\n",
       "      <td>0.36</td>\n",
       "      <td>...</td>\n",
       "      <td>-1.00</td>\n",
       "      <td>0.285710</td>\n",
       "      <td>0.60</td>\n",
       "      <td>-0.571430</td>\n",
       "      <td>-1.00</td>\n",
       "      <td>0.142860</td>\n",
       "      <td>0.76</td>\n",
       "      <td>-0.666670</td>\n",
       "      <td>-0.55</td>\n",
       "      <td>1.0</td>\n",
       "    </tr>\n",
       "  </tbody>\n",
       "</table>\n",
       "<p>5 rows × 77 columns</p>\n",
       "</div>"
      ],
      "text/plain": [
       "        0     1        2     3        4     5         6     7        8     9   \\\n",
       "0 -0.14286 -0.60 -0.28571 -0.10  0.00000  0.04 -0.047619 -0.05  0.00000  0.04   \n",
       "1  0.19048  0.04 -0.38095  0.20  0.19048  0.00 -0.190480 -0.25  0.14286 -0.04   \n",
       "2  0.28571  0.56 -0.57143 -0.75  0.33333  0.40 -0.952380 -0.65  0.14286  0.56   \n",
       "3  0.28571  0.20 -1.00000 -0.70  0.00000  0.04 -1.000000 -0.55  0.00000  0.04   \n",
       "4  0.42857  0.68 -0.28571 -0.30  0.42857  0.76 -0.476190 -0.60  0.00000  0.36   \n",
       "\n",
       "  ...     67        68    69        70    71        72    73        74    75  \\\n",
       "0 ...   0.40 -0.047619  0.04 -0.095238  0.05 -0.095238 -0.08  0.142860 -0.55   \n",
       "1 ...   0.10  0.000000 -0.12  0.142860  0.10 -0.285710 -0.24  0.095238  0.15   \n",
       "2 ...  -0.70  0.428570  0.04 -0.619050 -0.70  0.047619  0.32 -0.714290 -0.30   \n",
       "3 ...  -0.65  0.523810  0.60 -0.428570 -0.55  0.476190  0.32 -0.380950 -0.30   \n",
       "4 ...  -1.00  0.285710  0.60 -0.571430 -1.00  0.142860  0.76 -0.666670 -0.55   \n",
       "\n",
       "    76  \n",
       "0  1.0  \n",
       "1  1.0  \n",
       "2  1.0  \n",
       "3  1.0  \n",
       "4  1.0  \n",
       "\n",
       "[5 rows x 77 columns]"
      ]
     },
     "execution_count": 10,
     "metadata": {},
     "output_type": "execute_result"
    }
   ],
   "source": [
    "df=pd.DataFrame(df)\n",
    "df.head()"
   ]
  },
  {
   "cell_type": "markdown",
   "metadata": {},
   "source": [
    "dataframe haline getirilirdi"
   ]
  },
  {
   "cell_type": "markdown",
   "metadata": {},
   "source": [
    "data hazırlandı."
   ]
  },
  {
   "cell_type": "markdown",
   "metadata": {},
   "source": [
    "# Task 2:"
   ]
  },
  {
   "cell_type": "markdown",
   "metadata": {},
   "source": [
    "Svm kütüphanelerini alma datayı bölme işlemleri aşağıda rfb en etkili olduğundan rfb yi seçtim gamma bir çok deneme sonrası optimal burda kaldı"
   ]
  },
  {
   "cell_type": "code",
   "execution_count": 11,
   "metadata": {},
   "outputs": [],
   "source": [
    "from sklearn.svm import SVC\n",
    "from sklearn.model_selection import train_test_split\n",
    "from sklearn.metrics import classification_report,confusion_matrix,accuracy_score\n"
   ]
  },
  {
   "cell_type": "code",
   "execution_count": 12,
   "metadata": {},
   "outputs": [
    {
     "name": "stdout",
     "output_type": "stream",
     "text": [
      "0.7341772151898734\n",
      "[[28 12]\n",
      " [ 9 30]]\n"
     ]
    }
   ],
   "source": [
    "X_train,X_test,y_train,y_test=train_test_split(df.iloc[:,:76],df.iloc[:,76])\n",
    "sv=SVC(kernel=\"rbf\",gamma=0.03,C=2)\n",
    "sv.fit(X_train,y_train)\n",
    "predicted=sv.predict(X_test)\n",
    "print(accuracy_score(y_test,predicted))\n",
    "print(confusion_matrix(y_test,predicted))"
   ]
  },
  {
   "cell_type": "markdown",
   "metadata": {},
   "source": [
    "data sonucu yeterli değil neural network te daha başarılı olucak muhtemelen"
   ]
  },
  {
   "cell_type": "markdown",
   "metadata": {},
   "source": [
    "# TASK 3:"
   ]
  },
  {
   "cell_type": "markdown",
   "metadata": {},
   "source": [
    "Keras kütüphanelerini atma"
   ]
  },
  {
   "cell_type": "code",
   "execution_count": 13,
   "metadata": {},
   "outputs": [
    {
     "name": "stderr",
     "output_type": "stream",
     "text": [
      "Using TensorFlow backend.\n"
     ]
    }
   ],
   "source": [
    "from keras.models import Sequential\n",
    "from keras.layers import Dense, Embedding\n",
    "from keras.layers import LSTM,Dropout\n",
    "from keras.preprocessing import sequence\n",
    "from keras.utils import to_categorical"
   ]
  },
  {
   "cell_type": "markdown",
   "metadata": {},
   "source": [
    "Datayı uygun hale getirme "
   ]
  },
  {
   "cell_type": "code",
   "execution_count": 14,
   "metadata": {},
   "outputs": [
    {
     "name": "stderr",
     "output_type": "stream",
     "text": [
      "C:\\Users\\gurbu\\Anaconda3\\lib\\site-packages\\ipykernel_launcher.py:3: FutureWarning: Method .as_matrix will be removed in a future version. Use .values instead.\n",
      "  This is separate from the ipykernel package so we can avoid doing imports until\n",
      "C:\\Users\\gurbu\\Anaconda3\\lib\\site-packages\\ipykernel_launcher.py:4: FutureWarning: Method .as_matrix will be removed in a future version. Use .values instead.\n",
      "  after removing the cwd from sys.path.\n"
     ]
    }
   ],
   "source": [
    "y_train=to_categorical(y_train)\n",
    "y_test=to_categorical(y_test)\n",
    "X_train = X_train.as_matrix()\n",
    "X_test = X_test.as_matrix()"
   ]
  },
  {
   "cell_type": "markdown",
   "metadata": {},
   "source": [
    "classification da categoric hale getirdik targeti.predictor ı da array haline getirdik"
   ]
  },
  {
   "cell_type": "code",
   "execution_count": 15,
   "metadata": {},
   "outputs": [
    {
     "name": "stdout",
     "output_type": "stream",
     "text": [
      "Train on 235 samples, validate on 79 samples\n",
      "Epoch 1/10\n",
      "235/235 [==============================] - 1s 3ms/step - loss: 0.6792 - acc: 0.8936 - val_loss: 0.6618 - val_acc: 1.0000\n",
      "Epoch 2/10\n",
      "235/235 [==============================] - 0s 66us/step - loss: 0.6332 - acc: 1.0000 - val_loss: 0.6182 - val_acc: 1.0000\n",
      "Epoch 3/10\n",
      "235/235 [==============================] - 0s 133us/step - loss: 0.5736 - acc: 1.0000 - val_loss: 0.5421 - val_acc: 1.0000\n",
      "Epoch 4/10\n",
      "235/235 [==============================] - 0s 66us/step - loss: 0.4876 - acc: 1.0000 - val_loss: 0.4229 - val_acc: 1.0000\n",
      "Epoch 5/10\n",
      "235/235 [==============================] - 0s 66us/step - loss: 0.3684 - acc: 1.0000 - val_loss: 0.2743 - val_acc: 1.0000\n",
      "Epoch 6/10\n",
      "235/235 [==============================] - 0s 66us/step - loss: 0.3311 - acc: 1.0000 - val_loss: 0.1552 - val_acc: 1.0000\n",
      "Epoch 7/10\n",
      "235/235 [==============================] - 0s 67us/step - loss: 0.2830 - acc: 1.0000 - val_loss: 0.0841 - val_acc: 1.0000\n",
      "Epoch 8/10\n",
      "235/235 [==============================] - 0s 66us/step - loss: 0.2288 - acc: 1.0000 - val_loss: 0.0450 - val_acc: 1.0000\n",
      "Epoch 9/10\n",
      "235/235 [==============================] - 0s 66us/step - loss: 0.1840 - acc: 1.0000 - val_loss: 0.0240 - val_acc: 1.0000\n",
      "Epoch 10/10\n",
      "235/235 [==============================] - 0s 133us/step - loss: 0.1569 - acc: 1.0000 - val_loss: 0.0128 - val_acc: 1.0000\n"
     ]
    },
    {
     "data": {
      "text/plain": [
       "<keras.callbacks.History at 0x268267ba320>"
      ]
     },
     "execution_count": 15,
     "metadata": {},
     "output_type": "execute_result"
    }
   ],
   "source": [
    "model= Sequential()\n",
    "model.add(Dense(100,activation=\"relu\",input_shape=(76,)))\n",
    "model.add(Dense(10,activation=\"relu\"))\n",
    "model.add(Dropout(0.5))\n",
    "model.add(Dense(10,activation=\"relu\"))\n",
    "model.add(Dense(10,activation=\"relu\"))\n",
    "model.add(Dropout(0.5))\n",
    "model.add(Dense(10,activation=\"relu\"))\n",
    "model.add(Dense(10,activation=\"relu\"))\n",
    "model.add(Dense(10,activation=\"relu\"))\n",
    "model.add(Dropout(0.5))\n",
    "model.add(Dense(10,activation=\"relu\"))\n",
    "model.add(Dense(10,activation=\"relu\"))\n",
    "model.add(Dense(2,activation=\"softmax\"))\n",
    "model.compile(optimizer='adam', loss='categorical_crossentropy',metrics=[\"accuracy\"])\n",
    "model.fit(X_train, y_train, epochs=10, batch_size=32, validation_data=(X_test,y_test))"
   ]
  },
  {
   "cell_type": "markdown",
   "metadata": {},
   "source": [
    "it shows us neural networks very good "
   ]
  },
  {
   "cell_type": "code",
   "execution_count": 16,
   "metadata": {},
   "outputs": [
    {
     "name": "stdout",
     "output_type": "stream",
     "text": [
      "_________________________________________________________________\n",
      "Layer (type)                 Output Shape              Param #   \n",
      "=================================================================\n",
      "dense_1 (Dense)              (None, 100)               7700      \n",
      "_________________________________________________________________\n",
      "dense_2 (Dense)              (None, 10)                1010      \n",
      "_________________________________________________________________\n",
      "dropout_1 (Dropout)          (None, 10)                0         \n",
      "_________________________________________________________________\n",
      "dense_3 (Dense)              (None, 10)                110       \n",
      "_________________________________________________________________\n",
      "dense_4 (Dense)              (None, 10)                110       \n",
      "_________________________________________________________________\n",
      "dropout_2 (Dropout)          (None, 10)                0         \n",
      "_________________________________________________________________\n",
      "dense_5 (Dense)              (None, 10)                110       \n",
      "_________________________________________________________________\n",
      "dense_6 (Dense)              (None, 10)                110       \n",
      "_________________________________________________________________\n",
      "dense_7 (Dense)              (None, 10)                110       \n",
      "_________________________________________________________________\n",
      "dropout_3 (Dropout)          (None, 10)                0         \n",
      "_________________________________________________________________\n",
      "dense_8 (Dense)              (None, 10)                110       \n",
      "_________________________________________________________________\n",
      "dense_9 (Dense)              (None, 10)                110       \n",
      "_________________________________________________________________\n",
      "dense_10 (Dense)             (None, 2)                 22        \n",
      "=================================================================\n",
      "Total params: 9,502\n",
      "Trainable params: 9,502\n",
      "Non-trainable params: 0\n",
      "_________________________________________________________________\n"
     ]
    }
   ],
   "source": [
    "model.summary()"
   ]
  },
  {
   "cell_type": "code",
   "execution_count": null,
   "metadata": {},
   "outputs": [],
   "source": []
  },
  {
   "cell_type": "code",
   "execution_count": null,
   "metadata": {},
   "outputs": [],
   "source": []
  }
 ],
 "metadata": {
  "kernelspec": {
   "display_name": "Python 3",
   "language": "python",
   "name": "python3"
  },
  "language_info": {
   "codemirror_mode": {
    "name": "ipython",
    "version": 3
   },
   "file_extension": ".py",
   "mimetype": "text/x-python",
   "name": "python",
   "nbconvert_exporter": "python",
   "pygments_lexer": "ipython3",
   "version": "3.6.7"
  }
 },
 "nbformat": 4,
 "nbformat_minor": 2
}
