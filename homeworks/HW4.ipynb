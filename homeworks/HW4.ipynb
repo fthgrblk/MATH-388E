{
 "cells": [
  {
   "cell_type": "markdown",
   "metadata": {},
   "source": [
    "# Homework 3\n",
    "\n",
    "Before you run your homework run the code below:"
   ]
  },
  {
   "cell_type": "code",
   "execution_count": 1,
   "metadata": {},
   "outputs": [],
   "source": [
    "import os\n",
    "import sys\n",
    "import hashlib\n",
    "import pandas as pd\n",
    "import numpy as np\n",
    "from urllib.request import urlopen\n",
    "\n",
    "assert os.path.exists('../homeworks/HW4.ipynb')\n",
    "\n",
    "info = sys.platform + '\\n' + sys.version + '\\n' + os.getcwd() + '\\n' + os.getlogin()\n",
    "name = hashlib.sha256(info.encode('utf-8')).hexdigest()\n",
    "with open('../other/hw-4-'+name,'w') as f:\n",
    "    f.write(info)"
   ]
  },
  {
   "cell_type": "code",
   "execution_count": 2,
   "metadata": {},
   "outputs": [],
   "source": [
    "with open('../other/hw-4-'+name,'r') as f:\n",
    "    info = f.read()\n",
    "name = hashlib.sha256(info.encode('utf-8')).hexdigest()\n",
    "assert os.path.exists('../other/hw-4-'+name)"
   ]
  },
  {
   "cell_type": "markdown",
   "metadata": {},
   "source": [
    "## Task\n",
    "\n",
    "Apply all of the supervised and unsupervised classification and clustering algorithms we learned so far for the [sonar dataset from UCI](http://archive.ics.uci.edu/ml/datasets/connectionist+bench+(sonar,+mines+vs.+rocks)).\n",
    "\n",
    "The code for downloading the data is below. Don't load the data again and again in each subtask, refer the data as `SONAR` after you run the cell below."
   ]
  },
  {
   "cell_type": "code",
   "execution_count": 3,
   "metadata": {},
   "outputs": [],
   "source": [
    "with urlopen(\"https://archive.ics.uci.edu/ml/machine-learning-databases/undocumented/connectionist-bench/sonar/sonar.all-data\") as fil:\n",
    "    SONAR = pd.read_csv(fil, delimiter=',', header=None)"
   ]
  },
  {
   "cell_type": "markdown",
   "metadata": {},
   "source": [
    "Split the tasks into subtasks and into separate cells.  Also before your analysis for each subtask, write a short paragraph before explaining which algorithm you are going to use. Each subtask should look like this"
   ]
  },
  {
   "cell_type": "markdown",
   "metadata": {},
   "source": [
    "# Subtask 1: KMeans"
   ]
  },
  {
   "cell_type": "markdown",
   "metadata": {},
   "source": [
    "- First cell importing libraries- \n",
    "- Splitting the data and setting to train test split\n",
    "- Creating and using Kmeans algorithm with 2 cluster\n",
    "- fitting the data and predicting the data \n",
    "- normally not tested but i have a dataset with label so i test it"
   ]
  },
  {
   "cell_type": "code",
   "execution_count": 4,
   "metadata": {},
   "outputs": [],
   "source": [
    "#importing libraries\n",
    "from sklearn.cluster import KMeans\n",
    "from sklearn.model_selection import train_test_split\n",
    "from sklearn.metrics import confusion_matrix\n",
    "from sklearn.metrics import accuracy_score\n",
    "import matplotlib.pyplot as plt\n",
    "from sklearn.preprocessing import StandardScaler\n",
    "\n",
    "#dataset assigning split to x and y\n",
    "x=SONAR.iloc[:,0:60]\n",
    "y=SONAR.iloc[:,60]\n",
    "#labels are converting to numerical caterogical\n",
    "labels={\"M\":1,\"R\":0}\n",
    "y=y.map(lambda x:labels[x])\n",
    "\n",
    "#normalizing data\n",
    "scaler = StandardScaler()\n",
    "scaler.fit(x)\n",
    "x =  scaler.transform(x)\n",
    "#creating train, test set \n",
    "Xtrain,Xtest,Ytrain,Ytest=train_test_split(x,y,test_size=0.33)\n"
   ]
  },
  {
   "cell_type": "code",
   "execution_count": 5,
   "metadata": {},
   "outputs": [
    {
     "name": "stdout",
     "output_type": "stream",
     "text": [
      "[[ 5 22]\n",
      " [ 8 34]]\n"
     ]
    },
    {
     "data": {
      "text/plain": [
       "0.5652173913043478"
      ]
     },
     "execution_count": 5,
     "metadata": {},
     "output_type": "execute_result"
    }
   ],
   "source": [
    "#fitting and prediction\n",
    "kmeans=KMeans(n_clusters=2)\n",
    "kmeans.fit(Xtrain)\n",
    "pred=kmeans.predict(Xtest)\n",
    "\n",
    "print(confusion_matrix(Ytest,pred))\n",
    "accuracy_score(Ytest,pred)"
   ]
  },
  {
   "cell_type": "markdown",
   "metadata": {},
   "source": [
    "-It is not valid algorithm for Sonar dataset.It is cluster algorithm."
   ]
  },
  {
   "cell_type": "markdown",
   "metadata": {},
   "source": [
    "# Subtask 2: KNN"
   ]
  },
  {
   "cell_type": "markdown",
   "metadata": {},
   "source": [
    "-importing Knn classifier algorithm and create knn fuction \n",
    "-fit the train set where I created before then using the Xtest for prediction\n",
    "-Finally printing confussion matrix and accuracy "
   ]
  },
  {
   "cell_type": "code",
   "execution_count": 6,
   "metadata": {},
   "outputs": [
    {
     "name": "stdout",
     "output_type": "stream",
     "text": [
      "[[22  5]\n",
      " [ 2 40]]\n",
      "0.8985507246376812\n"
     ]
    }
   ],
   "source": [
    "from sklearn.neighbors import KNeighborsClassifier\n",
    "\n",
    "knn=KNeighborsClassifier(n_neighbors=3,metric=\"euclidean\")\n",
    "knn.fit(Xtrain,Ytrain)\n",
    "pred_knn=knn.predict(Xtest)\n",
    "\n",
    "print(confusion_matrix(Ytest,pred_knn))\n",
    "print(accuracy_score(Ytest,pred_knn))"
   ]
  },
  {
   "cell_type": "markdown",
   "metadata": {},
   "source": [
    "-Sonar dataset is very appropriate for knn algorithm.We can see that it is not bad accuracy. "
   ]
  },
  {
   "cell_type": "markdown",
   "metadata": {},
   "source": [
    "# Subtask 3:Hierarchical cluster\n"
   ]
  },
  {
   "cell_type": "markdown",
   "metadata": {},
   "source": [
    "-It is an unsupervised algorithm.I used only X independet values on hieararchical clustering\n",
    "-For Testing Y must be converted numerical categorical\n",
    "-at the end of code I tested with Y dependent values "
   ]
  },
  {
   "cell_type": "code",
   "execution_count": 7,
   "metadata": {},
   "outputs": [
    {
     "data": {
      "image/png": "[encoded data removed]",
      "text/plain": [
       "<Figure size 1728x864 with 1 Axes>"
      ]
     },
     "metadata": {
      "needs_background": "light"
     },
     "output_type": "display_data"
    },
    {
     "name": "stdout",
     "output_type": "stream",
     "text": [
      "[[70 27]\n",
      " [75 36]]\n",
      "0.5096153846153846\n"
     ]
    }
   ],
   "source": [
    "#importing liblaries\n",
    "from scipy.cluster.hierarchy import linkage, dendrogram ,cut_tree\n",
    "from sklearn.cluster import AgglomerativeClustering\n",
    "import pandas as pd\n",
    "import matplotlib.pyplot as plt\n",
    "\n",
    "#create hierarchical function \n",
    "hieararchical_cluster=AgglomerativeClustering(n_clusters=2,affinity=\"euclidean\",linkage=\"ward\")\n",
    "#dataset preparing\n",
    "x=SONAR.iloc[:,0:60]\n",
    "y=SONAR.iloc[:,60]\n",
    "\n",
    "#labels are converting to numerical caterogical\n",
    "labels={\"M\":1,\"R\":0}\n",
    "y=y.map(lambda x:labels[x])\n",
    "\n",
    "#fit and prediction\n",
    "predict=hieararchical_cluster.fit_predict(SONAR.iloc[:,0:60])\n",
    "#create merge method and plotting dendogram\n",
    "merg = linkage(x,method=\"ward\")\n",
    "#cutting tree\n",
    "cut_tree(n_clusters=2,Z=merg)\n",
    "plt.figure(figsize=[24,12])\n",
    "dendrogram(merg,leaf_rotation = 90)\n",
    "plt.xlabel(\"data points\")\n",
    "plt.ylabel(\"euclidean distance\")\n",
    "plt.show()\n",
    "\n",
    "#Score of hieararchical clustering\n",
    "print(confusion_matrix(y,predict))\n",
    "print(accuracy_score(y,predict))\n"
   ]
  },
  {
   "cell_type": "markdown",
   "metadata": {},
   "source": [
    "-Result is bad,It did't worked because of We tried to aprroaching to Supervised data with an clustering algorithm.\n"
   ]
  },
  {
   "cell_type": "markdown",
   "metadata": {},
   "source": [
    "# Subtask 4: Naive Bayes Classifier"
   ]
  },
  {
   "cell_type": "markdown",
   "metadata": {},
   "source": [
    "-Naive bayes Classifier is appropriate algorithm for this dataset."
   ]
  },
  {
   "cell_type": "code",
   "execution_count": 12,
   "metadata": {},
   "outputs": [
    {
     "name": "stdout",
     "output_type": "stream",
     "text": [
      "Accuracy of Naive bayes algorithm:  0.6231884057971014\n"
     ]
    }
   ],
   "source": [
    "from sklearn.naive_bayes import GaussianNB\n",
    "#creating naive bayes algo\n",
    "nb = GaussianNB()\n",
    "#fitting \n",
    "nb.fit(Xtrain,Ytrain)\n",
    "#accuracy\n",
    "print(\"Accuracy of Naive bayes algorithm: \",nb.score(Xtest,Ytest))"
   ]
  },
  {
   "cell_type": "markdown",
   "metadata": {},
   "source": [
    "-As a result it is  algorithm for th"
   ]
  },
  {
   "cell_type": "markdown",
   "metadata": {},
   "source": [
    "# Subtask 4: Logistic Regression"
   ]
  },
  {
   "cell_type": "markdown",
   "metadata": {},
   "source": [
    "-It is an classification algorithm it is very obvious that it will more accurate than other unsupervised algorithm"
   ]
  },
  {
   "cell_type": "code",
   "execution_count": null,
   "metadata": {},
   "outputs": [],
   "source": [
    "#libraries\n",
    "from sklearn.linear_model import LogisticRegression\n",
    "#creating logistic regression function\n",
    "multiple_logreg=LogisticRegression()\n",
    "\n",
    "#fitting and predicting\n",
    "multiple_logreg.fit(Xtrain,Ytrain)\n",
    "predict=multiple_logreg.predict(Xtest)\n",
    "#accuracy\n",
    "print(confusion_matrix(predict,Ytest))\n",
    "print(accuracy_score(predict,Ytest))\n"
   ]
  },
  {
   "cell_type": "markdown",
   "metadata": {},
   "source": [
    "-Consequently it is good result."
   ]
  },
  {
   "cell_type": "markdown",
   "metadata": {},
   "source": [
    "# Subtask 6: Linear Regression"
   ]
  },
  {
   "cell_type": "markdown",
   "metadata": {},
   "source": [
    "Lİnear regression can not be used on Sonar dataset that has not continuos dependent variable."
   ]
  },
  {
   "cell_type": "markdown",
   "metadata": {},
   "source": [
    "---------------"
   ]
  },
  {
   "cell_type": "code",
   "execution_count": null,
   "metadata": {},
   "outputs": [],
   "source": []
  }
 ],
 "metadata": {
  "kernelspec": {
   "display_name": "Python 3",
   "language": "python",
   "name": "python3"
  },
  "language_info": {
   "codemirror_mode": {
    "name": "ipython",
    "version": 3
   },
   "file_extension": ".py",
   "mimetype": "text/x-python",
   "name": "python",
   "nbconvert_exporter": "python",
   "pygments_lexer": "ipython3",
   "version": "3.6.6"
  }
 },
 "nbformat": 4,
 "nbformat_minor": 2
}
